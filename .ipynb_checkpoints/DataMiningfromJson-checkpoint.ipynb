{
 "cells": [
  {
   "cell_type": "code",
   "execution_count": 1,
   "metadata": {},
   "outputs": [],
   "source": [
    "import pandas as pd\n",
    "import requests"
   ]
  },
  {
   "cell_type": "code",
   "execution_count": 2,
   "metadata": {},
   "outputs": [],
   "source": [
    "API_STARTPOINT = \"https://devtest.fueblabs.com/rest/logsData\""
   ]
  },
  {
   "cell_type": "code",
   "execution_count": 3,
   "metadata": {},
   "outputs": [],
   "source": [
    "session = requests.Session()\n",
    "session.auth = ('rajathtest@gmail.com','fueb1')"
   ]
  },
  {
   "cell_type": "code",
   "execution_count": 4,
   "metadata": {},
   "outputs": [],
   "source": [
    "r = session.get(url=API_STARTPOINT)"
   ]
  },
  {
   "cell_type": "code",
   "execution_count": 5,
   "metadata": {},
   "outputs": [],
   "source": [
    "k = r.json()"
   ]
  },
  {
   "cell_type": "code",
   "execution_count": 6,
   "metadata": {},
   "outputs": [
    {
     "data": {
      "text/plain": [
       "[{'date': '2020-01-06 19:08:33',\n",
       "  'dimmerFlag': False,\n",
       "  'event': '63_fueb1_Switch_L3 changed from ON to OFF'},\n",
       " {'date': '2020-01-06 19:09:09',\n",
       "  'dimmerFlag': True,\n",
       "  'event': 'dimmer2 changed from NULL to 17'},\n",
       " {'date': '2020-01-06 19:09:40',\n",
       "  'dimmerFlag': True,\n",
       "  'event': 'dimmer changed from 44 to 62'},\n",
       " {'date': '2020-01-06 19:09:49',\n",
       "  'dimmerFlag': False,\n",
       "  'event': '63_fueb1_Switch_L2 changed from OFF to ON'},\n",
       " {'date': '2020-01-08 11:43:36',\n",
       "  'dimmerFlag': False,\n",
       "  'event': '63_fueb1_Switch_L1 changed from OFF to ON'},\n",
       " {'date': '2020-01-08 11:44:26',\n",
       "  'dimmerFlag': True,\n",
       "  'event': 'dimmer2 changed from 17 to 100'},\n",
       " {'date': '2020-01-08 11:45:11',\n",
       "  'dimmerFlag': True,\n",
       "  'event': 'dimmer2 changed from 100 to 0'},\n",
       " {'date': '2020-01-08 11:46:49',\n",
       "  'dimmerFlag': False,\n",
       "  'event': '63_fueb1_Switch_L2 changed from ON to OFF'},\n",
       " {'date': '2020-01-08 11:47:07',\n",
       "  'dimmerFlag': False,\n",
       "  'event': '63_fueb1_Switch_L2 changed from OFF to ON'}]"
      ]
     },
     "execution_count": 6,
     "metadata": {},
     "output_type": "execute_result"
    }
   ],
   "source": [
    "k"
   ]
  },
  {
   "cell_type": "code",
   "execution_count": 7,
   "metadata": {},
   "outputs": [],
   "source": [
    "df = pd.DataFrame(k)"
   ]
  },
  {
   "cell_type": "code",
   "execution_count": 8,
   "metadata": {},
   "outputs": [],
   "source": [
    "df.columns = ['time stamp', 'dimmer', 'switch name with changed state']"
   ]
  },
  {
   "cell_type": "code",
   "execution_count": 9,
   "metadata": {},
   "outputs": [],
   "source": [
    "rdf = df[['time stamp','dimmer','switch name with changed state']]"
   ]
  },
  {
   "cell_type": "code",
   "execution_count": 10,
   "metadata": {},
   "outputs": [],
   "source": [
    "rdf[\"switch name\"] = \"\"\n",
    "rdf[\"changed state\"] = \"\"\n",
    "rdf[\"initial value\"] = \"\"\n",
    "rdf[\"final value\"] = \"\""
   ]
  },
  {
   "cell_type": "code",
   "execution_count": 11,
   "metadata": {},
   "outputs": [
    {
     "name": "stderr",
     "output_type": "stream",
     "text": [
      "/home/rajath/.virtualenvs/djangoapps/lib/python3.6/site-packages/ipykernel_launcher.py:2: SettingWithCopyWarning: \n",
      "A value is trying to be set on a copy of a slice from a DataFrame\n",
      "\n",
      "See the caveats in the documentation: http://pandas.pydata.org/pandas-docs/stable/user_guide/indexing.html#returning-a-view-versus-a-copy\n",
      "  \n",
      "/home/rajath/.virtualenvs/djangoapps/lib/python3.6/site-packages/ipykernel_launcher.py:3: SettingWithCopyWarning: \n",
      "A value is trying to be set on a copy of a slice from a DataFrame\n",
      "\n",
      "See the caveats in the documentation: http://pandas.pydata.org/pandas-docs/stable/user_guide/indexing.html#returning-a-view-versus-a-copy\n",
      "  This is separate from the ipykernel package so we can avoid doing imports until\n",
      "/home/rajath/.virtualenvs/djangoapps/lib/python3.6/site-packages/ipykernel_launcher.py:4: SettingWithCopyWarning: \n",
      "A value is trying to be set on a copy of a slice from a DataFrame\n",
      "\n",
      "See the caveats in the documentation: http://pandas.pydata.org/pandas-docs/stable/user_guide/indexing.html#returning-a-view-versus-a-copy\n",
      "  after removing the cwd from sys.path.\n",
      "/home/rajath/.virtualenvs/djangoapps/lib/python3.6/site-packages/ipykernel_launcher.py:5: SettingWithCopyWarning: \n",
      "A value is trying to be set on a copy of a slice from a DataFrame\n",
      "\n",
      "See the caveats in the documentation: http://pandas.pydata.org/pandas-docs/stable/user_guide/indexing.html#returning-a-view-versus-a-copy\n",
      "  \"\"\"\n"
     ]
    }
   ],
   "source": [
    "for i in range(len(rdf)):\n",
    "    rdf.loc[:,(\"switch name\")][i] = rdf.loc[:,('switch name with changed state')][i].split(\" \")[0]\n",
    "    rdf.loc[:,(\"changed state\")][i] = rdf.loc[:,('switch name with changed state')][i].split(\" \")[3]+\" \"+rdf.loc[:,('switch name with changed state')][i].split(\" \")[4]+\" \"+rdf.loc[:,('switch name with changed state')][i].split(\" \")[5]\n",
    "    rdf.loc[:,(\"initial value\")][i] = rdf.loc[:,('switch name with changed state')][i].split(\" \")[3]\n",
    "    rdf.loc[:,(\"final value\")][i] = rdf.loc[:,('switch name with changed state')][i].split(\" \")[5]"
   ]
  },
  {
   "cell_type": "code",
   "execution_count": 12,
   "metadata": {},
   "outputs": [
    {
     "data": {
      "text/html": [
       "<div>\n",
       "<style scoped>\n",
       "    .dataframe tbody tr th:only-of-type {\n",
       "        vertical-align: middle;\n",
       "    }\n",
       "\n",
       "    .dataframe tbody tr th {\n",
       "        vertical-align: top;\n",
       "    }\n",
       "\n",
       "    .dataframe thead th {\n",
       "        text-align: right;\n",
       "    }\n",
       "</style>\n",
       "<table border=\"1\" class=\"dataframe\">\n",
       "  <thead>\n",
       "    <tr style=\"text-align: right;\">\n",
       "      <th></th>\n",
       "      <th>time stamp</th>\n",
       "      <th>dimmer</th>\n",
       "      <th>switch name with changed state</th>\n",
       "      <th>switch name</th>\n",
       "      <th>changed state</th>\n",
       "      <th>initial value</th>\n",
       "      <th>final value</th>\n",
       "    </tr>\n",
       "  </thead>\n",
       "  <tbody>\n",
       "    <tr>\n",
       "      <th>0</th>\n",
       "      <td>2020-01-06 19:08:33</td>\n",
       "      <td>False</td>\n",
       "      <td>63_fueb1_Switch_L3 changed from ON to OFF</td>\n",
       "      <td>63_fueb1_Switch_L3</td>\n",
       "      <td>ON to OFF</td>\n",
       "      <td>ON</td>\n",
       "      <td>OFF</td>\n",
       "    </tr>\n",
       "    <tr>\n",
       "      <th>1</th>\n",
       "      <td>2020-01-06 19:09:09</td>\n",
       "      <td>True</td>\n",
       "      <td>dimmer2 changed from NULL to 17</td>\n",
       "      <td>dimmer2</td>\n",
       "      <td>NULL to 17</td>\n",
       "      <td>NULL</td>\n",
       "      <td>17</td>\n",
       "    </tr>\n",
       "    <tr>\n",
       "      <th>2</th>\n",
       "      <td>2020-01-06 19:09:40</td>\n",
       "      <td>True</td>\n",
       "      <td>dimmer changed from 44 to 62</td>\n",
       "      <td>dimmer</td>\n",
       "      <td>44 to 62</td>\n",
       "      <td>44</td>\n",
       "      <td>62</td>\n",
       "    </tr>\n",
       "    <tr>\n",
       "      <th>3</th>\n",
       "      <td>2020-01-06 19:09:49</td>\n",
       "      <td>False</td>\n",
       "      <td>63_fueb1_Switch_L2 changed from OFF to ON</td>\n",
       "      <td>63_fueb1_Switch_L2</td>\n",
       "      <td>OFF to ON</td>\n",
       "      <td>OFF</td>\n",
       "      <td>ON</td>\n",
       "    </tr>\n",
       "    <tr>\n",
       "      <th>4</th>\n",
       "      <td>2020-01-08 11:43:36</td>\n",
       "      <td>False</td>\n",
       "      <td>63_fueb1_Switch_L1 changed from OFF to ON</td>\n",
       "      <td>63_fueb1_Switch_L1</td>\n",
       "      <td>OFF to ON</td>\n",
       "      <td>OFF</td>\n",
       "      <td>ON</td>\n",
       "    </tr>\n",
       "    <tr>\n",
       "      <th>5</th>\n",
       "      <td>2020-01-08 11:44:26</td>\n",
       "      <td>True</td>\n",
       "      <td>dimmer2 changed from 17 to 100</td>\n",
       "      <td>dimmer2</td>\n",
       "      <td>17 to 100</td>\n",
       "      <td>17</td>\n",
       "      <td>100</td>\n",
       "    </tr>\n",
       "    <tr>\n",
       "      <th>6</th>\n",
       "      <td>2020-01-08 11:45:11</td>\n",
       "      <td>True</td>\n",
       "      <td>dimmer2 changed from 100 to 0</td>\n",
       "      <td>dimmer2</td>\n",
       "      <td>100 to 0</td>\n",
       "      <td>100</td>\n",
       "      <td>0</td>\n",
       "    </tr>\n",
       "    <tr>\n",
       "      <th>7</th>\n",
       "      <td>2020-01-08 11:46:49</td>\n",
       "      <td>False</td>\n",
       "      <td>63_fueb1_Switch_L2 changed from ON to OFF</td>\n",
       "      <td>63_fueb1_Switch_L2</td>\n",
       "      <td>ON to OFF</td>\n",
       "      <td>ON</td>\n",
       "      <td>OFF</td>\n",
       "    </tr>\n",
       "    <tr>\n",
       "      <th>8</th>\n",
       "      <td>2020-01-08 11:47:07</td>\n",
       "      <td>False</td>\n",
       "      <td>63_fueb1_Switch_L2 changed from OFF to ON</td>\n",
       "      <td>63_fueb1_Switch_L2</td>\n",
       "      <td>OFF to ON</td>\n",
       "      <td>OFF</td>\n",
       "      <td>ON</td>\n",
       "    </tr>\n",
       "  </tbody>\n",
       "</table>\n",
       "</div>"
      ],
      "text/plain": [
       "            time stamp  dimmer             switch name with changed state  \\\n",
       "0  2020-01-06 19:08:33   False  63_fueb1_Switch_L3 changed from ON to OFF   \n",
       "1  2020-01-06 19:09:09    True            dimmer2 changed from NULL to 17   \n",
       "2  2020-01-06 19:09:40    True               dimmer changed from 44 to 62   \n",
       "3  2020-01-06 19:09:49   False  63_fueb1_Switch_L2 changed from OFF to ON   \n",
       "4  2020-01-08 11:43:36   False  63_fueb1_Switch_L1 changed from OFF to ON   \n",
       "5  2020-01-08 11:44:26    True             dimmer2 changed from 17 to 100   \n",
       "6  2020-01-08 11:45:11    True              dimmer2 changed from 100 to 0   \n",
       "7  2020-01-08 11:46:49   False  63_fueb1_Switch_L2 changed from ON to OFF   \n",
       "8  2020-01-08 11:47:07   False  63_fueb1_Switch_L2 changed from OFF to ON   \n",
       "\n",
       "          switch name changed state initial value final value  \n",
       "0  63_fueb1_Switch_L3     ON to OFF            ON         OFF  \n",
       "1             dimmer2    NULL to 17          NULL          17  \n",
       "2              dimmer      44 to 62            44          62  \n",
       "3  63_fueb1_Switch_L2     OFF to ON           OFF          ON  \n",
       "4  63_fueb1_Switch_L1     OFF to ON           OFF          ON  \n",
       "5             dimmer2     17 to 100            17         100  \n",
       "6             dimmer2      100 to 0           100           0  \n",
       "7  63_fueb1_Switch_L2     ON to OFF            ON         OFF  \n",
       "8  63_fueb1_Switch_L2     OFF to ON           OFF          ON  "
      ]
     },
     "execution_count": 12,
     "metadata": {},
     "output_type": "execute_result"
    }
   ],
   "source": [
    "rdf"
   ]
  },
  {
   "cell_type": "code",
   "execution_count": 13,
   "metadata": {},
   "outputs": [],
   "source": [
    "rdf.replace(('NULL','ON', 'OFF'), (0, 1, 0), inplace=True)"
   ]
  },
  {
   "cell_type": "code",
   "execution_count": 14,
   "metadata": {},
   "outputs": [
    {
     "data": {
      "text/html": [
       "<div>\n",
       "<style scoped>\n",
       "    .dataframe tbody tr th:only-of-type {\n",
       "        vertical-align: middle;\n",
       "    }\n",
       "\n",
       "    .dataframe tbody tr th {\n",
       "        vertical-align: top;\n",
       "    }\n",
       "\n",
       "    .dataframe thead th {\n",
       "        text-align: right;\n",
       "    }\n",
       "</style>\n",
       "<table border=\"1\" class=\"dataframe\">\n",
       "  <thead>\n",
       "    <tr style=\"text-align: right;\">\n",
       "      <th></th>\n",
       "      <th>time stamp</th>\n",
       "      <th>dimmer</th>\n",
       "      <th>switch name with changed state</th>\n",
       "      <th>switch name</th>\n",
       "      <th>changed state</th>\n",
       "      <th>initial value</th>\n",
       "      <th>final value</th>\n",
       "    </tr>\n",
       "  </thead>\n",
       "  <tbody>\n",
       "    <tr>\n",
       "      <th>0</th>\n",
       "      <td>2020-01-06 19:08:33</td>\n",
       "      <td>False</td>\n",
       "      <td>63_fueb1_Switch_L3 changed from ON to OFF</td>\n",
       "      <td>63_fueb1_Switch_L3</td>\n",
       "      <td>ON to OFF</td>\n",
       "      <td>1</td>\n",
       "      <td>0</td>\n",
       "    </tr>\n",
       "    <tr>\n",
       "      <th>1</th>\n",
       "      <td>2020-01-06 19:09:09</td>\n",
       "      <td>True</td>\n",
       "      <td>dimmer2 changed from NULL to 17</td>\n",
       "      <td>dimmer2</td>\n",
       "      <td>NULL to 17</td>\n",
       "      <td>0</td>\n",
       "      <td>17</td>\n",
       "    </tr>\n",
       "    <tr>\n",
       "      <th>2</th>\n",
       "      <td>2020-01-06 19:09:40</td>\n",
       "      <td>True</td>\n",
       "      <td>dimmer changed from 44 to 62</td>\n",
       "      <td>dimmer</td>\n",
       "      <td>44 to 62</td>\n",
       "      <td>44</td>\n",
       "      <td>62</td>\n",
       "    </tr>\n",
       "    <tr>\n",
       "      <th>3</th>\n",
       "      <td>2020-01-06 19:09:49</td>\n",
       "      <td>False</td>\n",
       "      <td>63_fueb1_Switch_L2 changed from OFF to ON</td>\n",
       "      <td>63_fueb1_Switch_L2</td>\n",
       "      <td>OFF to ON</td>\n",
       "      <td>0</td>\n",
       "      <td>1</td>\n",
       "    </tr>\n",
       "    <tr>\n",
       "      <th>4</th>\n",
       "      <td>2020-01-08 11:43:36</td>\n",
       "      <td>False</td>\n",
       "      <td>63_fueb1_Switch_L1 changed from OFF to ON</td>\n",
       "      <td>63_fueb1_Switch_L1</td>\n",
       "      <td>OFF to ON</td>\n",
       "      <td>0</td>\n",
       "      <td>1</td>\n",
       "    </tr>\n",
       "    <tr>\n",
       "      <th>5</th>\n",
       "      <td>2020-01-08 11:44:26</td>\n",
       "      <td>True</td>\n",
       "      <td>dimmer2 changed from 17 to 100</td>\n",
       "      <td>dimmer2</td>\n",
       "      <td>17 to 100</td>\n",
       "      <td>17</td>\n",
       "      <td>100</td>\n",
       "    </tr>\n",
       "    <tr>\n",
       "      <th>6</th>\n",
       "      <td>2020-01-08 11:45:11</td>\n",
       "      <td>True</td>\n",
       "      <td>dimmer2 changed from 100 to 0</td>\n",
       "      <td>dimmer2</td>\n",
       "      <td>100 to 0</td>\n",
       "      <td>100</td>\n",
       "      <td>0</td>\n",
       "    </tr>\n",
       "    <tr>\n",
       "      <th>7</th>\n",
       "      <td>2020-01-08 11:46:49</td>\n",
       "      <td>False</td>\n",
       "      <td>63_fueb1_Switch_L2 changed from ON to OFF</td>\n",
       "      <td>63_fueb1_Switch_L2</td>\n",
       "      <td>ON to OFF</td>\n",
       "      <td>1</td>\n",
       "      <td>0</td>\n",
       "    </tr>\n",
       "    <tr>\n",
       "      <th>8</th>\n",
       "      <td>2020-01-08 11:47:07</td>\n",
       "      <td>False</td>\n",
       "      <td>63_fueb1_Switch_L2 changed from OFF to ON</td>\n",
       "      <td>63_fueb1_Switch_L2</td>\n",
       "      <td>OFF to ON</td>\n",
       "      <td>0</td>\n",
       "      <td>1</td>\n",
       "    </tr>\n",
       "  </tbody>\n",
       "</table>\n",
       "</div>"
      ],
      "text/plain": [
       "            time stamp  dimmer             switch name with changed state  \\\n",
       "0  2020-01-06 19:08:33   False  63_fueb1_Switch_L3 changed from ON to OFF   \n",
       "1  2020-01-06 19:09:09    True            dimmer2 changed from NULL to 17   \n",
       "2  2020-01-06 19:09:40    True               dimmer changed from 44 to 62   \n",
       "3  2020-01-06 19:09:49   False  63_fueb1_Switch_L2 changed from OFF to ON   \n",
       "4  2020-01-08 11:43:36   False  63_fueb1_Switch_L1 changed from OFF to ON   \n",
       "5  2020-01-08 11:44:26    True             dimmer2 changed from 17 to 100   \n",
       "6  2020-01-08 11:45:11    True              dimmer2 changed from 100 to 0   \n",
       "7  2020-01-08 11:46:49   False  63_fueb1_Switch_L2 changed from ON to OFF   \n",
       "8  2020-01-08 11:47:07   False  63_fueb1_Switch_L2 changed from OFF to ON   \n",
       "\n",
       "          switch name changed state initial value final value  \n",
       "0  63_fueb1_Switch_L3     ON to OFF             1           0  \n",
       "1             dimmer2    NULL to 17             0          17  \n",
       "2              dimmer      44 to 62            44          62  \n",
       "3  63_fueb1_Switch_L2     OFF to ON             0           1  \n",
       "4  63_fueb1_Switch_L1     OFF to ON             0           1  \n",
       "5             dimmer2     17 to 100            17         100  \n",
       "6             dimmer2      100 to 0           100           0  \n",
       "7  63_fueb1_Switch_L2     ON to OFF             1           0  \n",
       "8  63_fueb1_Switch_L2     OFF to ON             0           1  "
      ]
     },
     "execution_count": 14,
     "metadata": {},
     "output_type": "execute_result"
    }
   ],
   "source": [
    "rdf"
   ]
  },
  {
   "cell_type": "code",
   "execution_count": 15,
   "metadata": {},
   "outputs": [],
   "source": [
    "import matplotlib.pyplot as plt\n",
    "%matplotlib inline"
   ]
  },
  {
   "cell_type": "code",
   "execution_count": 16,
   "metadata": {},
   "outputs": [
    {
     "data": {
      "image/png": "[encoded data removed]",
      "text/plain": [
       "<Figure size 1080x360 with 1 Axes>"
      ]
     },
     "metadata": {
      "needs_background": "light"
     },
     "output_type": "display_data"
    }
   ],
   "source": [
    "rdf.groupby('switch name')['changed state'].nunique().plot(figsize=(15, 5),fontsize=15,legend=True,kind='bar')\n",
    "plt.show()"
   ]
  },
  {
   "cell_type": "code",
   "execution_count": 29,
   "metadata": {},
   "outputs": [
    {
     "data": {
      "image/png": "[encoded data removed]",
      "text/plain": [
       "<Figure size 720x720 with 1 Axes>"
      ]
     },
     "metadata": {},
     "output_type": "display_data"
    }
   ],
   "source": [
    "rdf.groupby('switch name')['changed state'].nunique().plot(title=\"PIE Chart\",kind='pie',fontsize=15,legend=True,figsize=(10, 10),autopct='%1.1f%%', startangle=90)\n",
    "plt.ylabel(\"\")\n",
    "plt.show()"
   ]
  },
  {
   "cell_type": "code",
   "execution_count": 18,
   "metadata": {},
   "outputs": [],
   "source": [
    "import seaborn as sns"
   ]
  },
  {
   "cell_type": "code",
   "execution_count": 19,
   "metadata": {},
   "outputs": [],
   "source": [
    "df_2 = rdf.groupby('switch name').count()"
   ]
  },
  {
   "cell_type": "code",
   "execution_count": 20,
   "metadata": {},
   "outputs": [],
   "source": [
    "df_2.reset_index(inplace=True)"
   ]
  },
  {
   "cell_type": "code",
   "execution_count": 21,
   "metadata": {},
   "outputs": [
    {
     "data": {
      "text/html": [
       "<div>\n",
       "<style scoped>\n",
       "    .dataframe tbody tr th:only-of-type {\n",
       "        vertical-align: middle;\n",
       "    }\n",
       "\n",
       "    .dataframe tbody tr th {\n",
       "        vertical-align: top;\n",
       "    }\n",
       "\n",
       "    .dataframe thead th {\n",
       "        text-align: right;\n",
       "    }\n",
       "</style>\n",
       "<table border=\"1\" class=\"dataframe\">\n",
       "  <thead>\n",
       "    <tr style=\"text-align: right;\">\n",
       "      <th></th>\n",
       "      <th>switch name</th>\n",
       "      <th>time stamp</th>\n",
       "      <th>dimmer</th>\n",
       "      <th>switch name with changed state</th>\n",
       "      <th>changed state</th>\n",
       "      <th>initial value</th>\n",
       "      <th>final value</th>\n",
       "    </tr>\n",
       "  </thead>\n",
       "  <tbody>\n",
       "    <tr>\n",
       "      <th>0</th>\n",
       "      <td>63_fueb1_Switch_L1</td>\n",
       "      <td>1</td>\n",
       "      <td>1</td>\n",
       "      <td>1</td>\n",
       "      <td>1</td>\n",
       "      <td>1</td>\n",
       "      <td>1</td>\n",
       "    </tr>\n",
       "    <tr>\n",
       "      <th>1</th>\n",
       "      <td>63_fueb1_Switch_L2</td>\n",
       "      <td>3</td>\n",
       "      <td>3</td>\n",
       "      <td>3</td>\n",
       "      <td>3</td>\n",
       "      <td>3</td>\n",
       "      <td>3</td>\n",
       "    </tr>\n",
       "    <tr>\n",
       "      <th>2</th>\n",
       "      <td>63_fueb1_Switch_L3</td>\n",
       "      <td>1</td>\n",
       "      <td>1</td>\n",
       "      <td>1</td>\n",
       "      <td>1</td>\n",
       "      <td>1</td>\n",
       "      <td>1</td>\n",
       "    </tr>\n",
       "    <tr>\n",
       "      <th>3</th>\n",
       "      <td>dimmer</td>\n",
       "      <td>1</td>\n",
       "      <td>1</td>\n",
       "      <td>1</td>\n",
       "      <td>1</td>\n",
       "      <td>1</td>\n",
       "      <td>1</td>\n",
       "    </tr>\n",
       "    <tr>\n",
       "      <th>4</th>\n",
       "      <td>dimmer2</td>\n",
       "      <td>3</td>\n",
       "      <td>3</td>\n",
       "      <td>3</td>\n",
       "      <td>3</td>\n",
       "      <td>3</td>\n",
       "      <td>3</td>\n",
       "    </tr>\n",
       "  </tbody>\n",
       "</table>\n",
       "</div>"
      ],
      "text/plain": [
       "          switch name  time stamp  dimmer  switch name with changed state  \\\n",
       "0  63_fueb1_Switch_L1           1       1                               1   \n",
       "1  63_fueb1_Switch_L2           3       3                               3   \n",
       "2  63_fueb1_Switch_L3           1       1                               1   \n",
       "3              dimmer           1       1                               1   \n",
       "4             dimmer2           3       3                               3   \n",
       "\n",
       "   changed state  initial value  final value  \n",
       "0              1              1            1  \n",
       "1              3              3            3  \n",
       "2              1              1            1  \n",
       "3              1              1            1  \n",
       "4              3              3            3  "
      ]
     },
     "execution_count": 21,
     "metadata": {},
     "output_type": "execute_result"
    }
   ],
   "source": [
    "df_2"
   ]
  },
  {
   "cell_type": "code",
   "execution_count": 22,
   "metadata": {},
   "outputs": [
    {
     "data": {
      "text/plain": [
       "<matplotlib.axes._subplots.AxesSubplot at 0x7f14d29214a8>"
      ]
     },
     "execution_count": 22,
     "metadata": {},
     "output_type": "execute_result"
    },
    {
     "data": {
      "image/png": "[encoded data removed]",
      "text/plain": [
       "<Figure size 842.4x595.44 with 1 Axes>"
      ]
     },
     "metadata": {},
     "output_type": "display_data"
    }
   ],
   "source": [
    "sns.set(rc={'figure.figsize':(11.7,8.27)})\n",
    "sns.barplot(x='switch name', y='changed state', data=df_2)"
   ]
  },
  {
   "cell_type": "code",
   "execution_count": null,
   "metadata": {},
   "outputs": [],
   "source": []
  },
  {
   "cell_type": "code",
   "execution_count": null,
   "metadata": {},
   "outputs": [],
   "source": []
  },
  {
   "cell_type": "code",
   "execution_count": null,
   "metadata": {},
   "outputs": [],
   "source": []
  }
 ],
 "metadata": {
  "kernelspec": {
   "display_name": "Python 3",
   "language": "python",
   "name": "python3"
  },
  "language_info": {
   "codemirror_mode": {
    "name": "ipython",
    "version": 3
   },
   "file_extension": ".py",
   "mimetype": "text/x-python",
   "name": "python",
   "nbconvert_exporter": "python",
   "pygments_lexer": "ipython3",
   "version": "3.6.9"
  }
 },
 "nbformat": 4,
 "nbformat_minor": 2
}
